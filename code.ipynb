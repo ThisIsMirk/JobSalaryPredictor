{
 "cells": [
  {
   "cell_type": "code",
   "execution_count": 44,
   "metadata": {},
   "outputs": [],
   "source": [
    "import pandas as pd\n",
    "import numpy as np\n",
    "import re\n",
    "import nltk\n",
    "from nltk.corpus import stopwords\n",
    "from sklearn.model_selection import train_test_split, GridSearchCV\n",
    "from sklearn.feature_extraction.text import TfidfVectorizer\n",
    "from sklearn.linear_model import LogisticRegression\n",
    "from sklearn.ensemble import RandomForestClassifier\n",
    "from sklearn.svm import SVC\n",
    "from sklearn.metrics import accuracy_score, confusion_matrix\n",
    "import matplotlib.pyplot as plt\n",
    "import seaborn as sns\n",
    "from sklearn.naive_bayes import MultinomialNB"
   ]
  },
  {
   "cell_type": "code",
   "execution_count": 45,
   "metadata": {},
   "outputs": [
    {
     "name": "stderr",
     "output_type": "stream",
     "text": [
      "[nltk_data] Downloading package stopwords to\n",
      "[nltk_data]     C:\\Users\\abmir\\AppData\\Roaming\\nltk_data...\n",
      "[nltk_data]   Package stopwords is already up-to-date!\n"
     ]
    },
    {
     "data": {
      "text/plain": [
       "True"
      ]
     },
     "execution_count": 45,
     "metadata": {},
     "output_type": "execute_result"
    }
   ],
   "source": [
    "nltk.download('stopwords')"
   ]
  },
  {
   "cell_type": "code",
   "execution_count": 46,
   "metadata": {},
   "outputs": [],
   "source": [
    "df = pd.read_csv('Train_rev1.csv')"
   ]
  },
  {
   "cell_type": "code",
   "execution_count": 47,
   "metadata": {},
   "outputs": [],
   "source": [
    "df_sampled = df.sample(n=2500, random_state=42)"
   ]
  },
  {
   "cell_type": "markdown",
   "metadata": {},
   "source": [
    "### Preprocess the text"
   ]
  },
  {
   "cell_type": "code",
   "execution_count": 48,
   "metadata": {},
   "outputs": [],
   "source": [
    "def clean_text(text):\n",
    "    if isinstance(text, str):\n",
    "        text = text.lower()  # lowercase\n",
    "        text = re.sub(r'\\d+', '', text)  # numbers\n",
    "        text = re.sub(r'\\W+', ' ', text)  #  special characters\n",
    "        text = re.sub(r'\\s+', ' ', text).strip()  # extra spaces\n",
    "        return text\n",
    "    return \"\""
   ]
  },
  {
   "cell_type": "code",
   "execution_count": 49,
   "metadata": {},
   "outputs": [],
   "source": [
    "df_sampled[\"FullDescription\"] = df_sampled[\"FullDescription\"].apply(clean_text)"
   ]
  },
  {
   "cell_type": "code",
   "execution_count": 50,
   "metadata": {},
   "outputs": [],
   "source": [
    "salary_threshold = df_sampled[\"SalaryNormalized\"].quantile(0.75)\n",
    "df_sampled[\"SalaryCategory\"] = (df_sampled[\"SalaryNormalized\"] >= salary_threshold).astype(int)"
   ]
  },
  {
   "cell_type": "code",
   "execution_count": 51,
   "metadata": {},
   "outputs": [],
   "source": [
    "# split into train and test\n",
    "train_df, test_df = train_test_split(df_sampled, test_size=0.2, random_state=42)"
   ]
  },
  {
   "cell_type": "code",
   "execution_count": 52,
   "metadata": {},
   "outputs": [],
   "source": [
    "tfidf = TfidfVectorizer(max_features=5000, stop_words=stopwords.words(\"english\"), sublinear_tf=True)"
   ]
  },
  {
   "cell_type": "code",
   "execution_count": 53,
   "metadata": {},
   "outputs": [],
   "source": [
    "X_train = tfidf.fit_transform(train_df[\"FullDescription\"])\n",
    "y_train = train_df[\"SalaryCategory\"]"
   ]
  },
  {
   "cell_type": "code",
   "execution_count": 54,
   "metadata": {},
   "outputs": [],
   "source": [
    "X_test = tfidf.transform(test_df[\"FullDescription\"])\n",
    "y_test = test_df[\"SalaryCategory\"]"
   ]
  },
  {
   "cell_type": "markdown",
   "metadata": {},
   "source": [
    "### Train and tune the models"
   ]
  },
  {
   "cell_type": "code",
   "execution_count": 73,
   "metadata": {},
   "outputs": [
    {
     "name": "stdout",
     "output_type": "stream",
     "text": [
      "Best Model for Multinomial Naïve Bayes: {'alpha': 0.1}\n",
      "Accuracy: 0.7920\n",
      "Best Model for Logistic Regression: {'C': 10, 'penalty': 'l2', 'solver': 'liblinear'}\n",
      "Accuracy: 0.8100\n"
     ]
    },
    {
     "name": "stderr",
     "output_type": "stream",
     "text": [
      "c:\\Users\\abmir\\AppData\\Local\\Programs\\Python\\Python312\\Lib\\site-packages\\numpy\\ma\\core.py:2881: RuntimeWarning: invalid value encountered in cast\n",
      "  _data = np.array(data, dtype=dtype, copy=copy,\n"
     ]
    },
    {
     "name": "stdout",
     "output_type": "stream",
     "text": [
      "Best Model for Random Forest: {'max_depth': 50, 'min_samples_leaf': 1, 'min_samples_split': 2, 'n_estimators': 100}\n",
      "Accuracy: 0.7700\n",
      "Best Model for SVM: {'C': 10}\n",
      "Accuracy: 0.7980\n"
     ]
    }
   ],
   "source": [
    "models = {\n",
    "    \"Multinomial Naïve Bayes\": MultinomialNB(),\n",
    "    \"Logistic Regression\": LogisticRegression(),\n",
    "    \"Random Forest\": RandomForestClassifier(),\n",
    "    \"SVM\": SVC()\n",
    "}\n",
    "\n",
    "param_grid = {\n",
    "    \"Multinomial Naïve Bayes\": {'alpha': [0.01, 0.1, 1, 10]},\n",
    "    \"Logistic Regression\": {\n",
    "        'C': [0.01, 0.1, 1, 10, 100],  \n",
    "        'solver': ['liblinear', 'lbfgs'],  \n",
    "        'penalty': ['l2']  \n",
    "    },\n",
    "    \"Random Forest\": {\n",
    "        'n_estimators': [50, 100, 200, 500],  \n",
    "        'max_depth': [5, 10, 20, 50, None], \n",
    "        'min_samples_split': [2, 5, 10],  \n",
    "        'min_samples_leaf': [1, 2, 5]  \n",
    "    },\n",
    "    \"SVM\": {'C': [0.1, 1, 10]\n",
    "    }\n",
    "}\n",
    "best_model = None\n",
    "best_accuracy = 0\n",
    "\n",
    "for model_name, model in models.items():\n",
    "    grid = GridSearchCV(model, param_grid[model_name], cv=5, scoring='accuracy', n_jobs=-1)\n",
    "    grid.fit(X_train, y_train)\n",
    "    \n",
    "    y_pred = grid.best_estimator_.predict(X_test)\n",
    "    accuracy = accuracy_score(y_test, y_pred)\n",
    "    \n",
    "    print(f\"Best Model for {model_name}: {grid.best_params_}\")\n",
    "    print(f\"Accuracy: {accuracy:.4f}\")\n",
    "    \n",
    "    if accuracy > best_accuracy:\n",
    "        best_accuracy = accuracy\n",
    "        best_model = grid.best_estimator_\n",
    "\n",
    "y_pred_best = best_model.predict(X_test)\n",
    "conf_matrix = confusion_matrix(y_test, y_pred_best)"
   ]
  },
  {
   "cell_type": "code",
   "execution_count": 74,
   "metadata": {},
   "outputs": [
    {
     "name": "stdout",
     "output_type": "stream",
     "text": [
      "The best model is LogisticRegression(C=10, solver='liblinear')\n",
      "with accuracy of 0.81\n"
     ]
    }
   ],
   "source": [
    "print(f\"The best model is {best_model}\")\n",
    "print(f\"with accuracy of {best_accuracy}\")"
   ]
  },
  {
   "cell_type": "code",
   "execution_count": 75,
   "metadata": {},
   "outputs": [
    {
     "data": {
      "image/png": "[encoded data removed]",
      "text/plain": [
       "<Figure size 600x400 with 2 Axes>"
      ]
     },
     "metadata": {},
     "output_type": "display_data"
    }
   ],
   "source": [
    "plt.figure(figsize=(6,4))\n",
    "sns.heatmap(conf_matrix, annot=True, fmt=\"d\", cmap=\"Blues\", xticklabels=[\"Low Salary\", \"High Salary\"], yticklabels=[\"Low Salary\", \"High Salary\"])\n",
    "plt.xlabel(\"Predicted\")\n",
    "plt.ylabel(\"Actual\")\n",
    "plt.title(\"Confusion Matrix\")\n",
    "plt.show()"
   ]
  },
  {
   "cell_type": "markdown",
   "metadata": {},
   "source": [
    "### Extract Top 10 Words for High and Low Salary"
   ]
  },
  {
   "cell_type": "code",
   "execution_count": 77,
   "metadata": {},
   "outputs": [
    {
     "name": "stdout",
     "output_type": "stream",
     "text": [
      "Top 10 words for HIGH salary jobs: ['operations' 'architect' 'leadership' 'managing' 'consumer' 'lead' 'head'\n",
      " 'strategic' 'director' 'senior']\n",
      "Top 10 words for LOW salary jobs: ['applicants' 'customer' 'hours' 'training' 'required' 'assistant'\n",
      " 'standard' 'database' 'basic' 'people']\n"
     ]
    }
   ],
   "source": [
    "feature_names = np.array(tfidf.get_feature_names_out())\n",
    "\n",
    "if isinstance(best_model, MultinomialNB):\n",
    "    # For Naïve Bayes, use log probabilities to determine word importance\n",
    "    coefficients = best_model.feature_log_prob_[1] - best_model.feature_log_prob_[0]\n",
    "else:\n",
    "    # For other models, use coefficients or feature importance\n",
    "    coefficients = best_model.coef_.flatten() if hasattr(best_model, 'coef_') else best_model.feature_importances_\n",
    "\n",
    "top_10_high_salary = feature_names[np.argsort(coefficients)[-10:]]\n",
    "top_10_low_salary = feature_names[np.argsort(coefficients)[:10]]\n",
    "\n",
    "print(\"Top 10 words for HIGH salary jobs:\", top_10_high_salary)\n",
    "print(\"Top 10 words for LOW salary jobs:\", top_10_low_salary)"
   ]
  }
 ],
 "metadata": {
  "kernelspec": {
   "display_name": "Python 3",
   "language": "python",
   "name": "python3"
  },
  "language_info": {
   "codemirror_mode": {
    "name": "ipython",
    "version": 3
   },
   "file_extension": ".py",
   "mimetype": "text/x-python",
   "name": "python",
   "nbconvert_exporter": "python",
   "pygments_lexer": "ipython3",
   "version": "3.12.5"
  }
 },
 "nbformat": 4,
 "nbformat_minor": 2
}
